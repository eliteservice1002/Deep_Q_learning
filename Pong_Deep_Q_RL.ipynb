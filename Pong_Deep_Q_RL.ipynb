{
 "cells": [
  {
   "cell_type": "markdown",
   "metadata": {
    "colab_type": "text",
    "id": "c9p-A50_Ehr-"
   },
   "source": [
    "<a href=\"https://colab.research.google.com/github/ShivamShrirao/deep_Q_learning_from_scratch/blob/master/Pong_Deep_Q_RL.ipynb\" target=\"_parent\"><img src=\"https://colab.research.google.com/assets/colab-badge.svg\" alt=\"Open In Colab\"/></a>"
   ]
  },
  {
   "cell_type": "code",
   "execution_count": null,
   "metadata": {
    "colab": {
     "base_uri": "https://localhost:8080/",
     "height": 357
    },
    "colab_type": "code",
    "id": "LbuhMj8QkFUO",
    "outputId": "0a589f65-c7b6-40b0-c9e6-8971d25bb6cf"
   },
   "outputs": [
    {
     "name": "stdout",
     "output_type": "stream",
     "text": [
      "Tue Aug 25 18:15:36 2020       \n",
      "+-----------------------------------------------------------------------------+\n",
      "| NVIDIA-SMI 450.57       Driver Version: 418.67       CUDA Version: 10.1     |\n",
      "|-------------------------------+----------------------+----------------------+\n",
      "| GPU  Name        Persistence-M| Bus-Id        Disp.A | Volatile Uncorr. ECC |\n",
      "| Fan  Temp  Perf  Pwr:Usage/Cap|         Memory-Usage | GPU-Util  Compute M. |\n",
      "|                               |                      |               MIG M. |\n",
      "|===============================+======================+======================|\n",
      "|   0  Tesla P100-PCIE...  Off  | 00000000:00:04.0 Off |                    0 |\n",
      "| N/A   33C    P0    24W / 250W |      0MiB / 16280MiB |      0%      Default |\n",
      "|                               |                      |                 ERR! |\n",
      "+-------------------------------+----------------------+----------------------+\n",
      "                                                                               \n",
      "+-----------------------------------------------------------------------------+\n",
      "| Processes:                                                                  |\n",
      "|  GPU   GI   CI        PID   Type   Process name                  GPU Memory |\n",
      "|        ID   ID                                                   Usage      |\n",
      "|=============================================================================|\n",
      "|  No running processes found                                                 |\n",
      "+-----------------------------------------------------------------------------+\n"
     ]
    }
   ],
   "source": [
    "!nvidia-smi"
   ]
  },
  {
   "cell_type": "code",
   "execution_count": null,
   "metadata": {
    "colab": {
     "base_uri": "https://localhost:8080/",
     "height": 122
    },
    "colab_type": "code",
    "id": "TQZiX7WgkQeu",
    "outputId": "0432bee8-427e-40e5-f4cd-9b274c9a0937"
   },
   "outputs": [
    {
     "name": "stdout",
     "output_type": "stream",
     "text": [
      "Go to this URL in a browser: https://accounts.google.com/o/oauth2/auth?client_id=947318989803-6bn6qk8qdgf4n4g3pfee6491hc0brc4i.apps.googleusercontent.com&redirect_uri=urn%3aietf%3awg%3aoauth%3a2.0%3aoob&scope=email%20https%3a%2f%2fwww.googleapis.com%2fauth%2fdocs.test%20https%3a%2f%2fwww.googleapis.com%2fauth%2fdrive%20https%3a%2f%2fwww.googleapis.com%2fauth%2fdrive.photos.readonly%20https%3a%2f%2fwww.googleapis.com%2fauth%2fpeopleapi.readonly&response_type=code\n",
      "\n",
      "Enter your authorization code:\n",
      "··········\n",
      "Mounted at /content/drive\n"
     ]
    }
   ],
   "source": [
    "from google.colab import drive\n",
    "drive.mount('/content/drive')"
   ]
  },
  {
   "cell_type": "code",
   "execution_count": null,
   "metadata": {
    "colab": {
     "base_uri": "https://localhost:8080/",
     "height": 207
    },
    "colab_type": "code",
    "id": "v6pXJGDekFNt",
    "outputId": "afb70a46-a594-4513-bc25-203698231cd1"
   },
   "outputs": [
    {
     "name": "stdout",
     "output_type": "stream",
     "text": [
      "Collecting git+https://github.com/ShivamShrirao/dnn_from_scratch.git\n",
      "  Cloning https://github.com/ShivamShrirao/dnn_from_scratch.git to /tmp/pip-req-build-qw22hjhe\n",
      "  Running command git clone -q https://github.com/ShivamShrirao/dnn_from_scratch.git /tmp/pip-req-build-qw22hjhe\n",
      "Building wheels for collected packages: dnn-from-scratch\n",
      "  Building wheel for dnn-from-scratch (setup.py) ... \u001b[?25l\u001b[?25hdone\n",
      "  Created wheel for dnn-from-scratch: filename=dnn_from_scratch-0.1.dev1-cp36-none-any.whl size=39846 sha256=4c22a7a63dbf475ec8b821f9156c1267eac217935dbb65d6e69db5408256602a\n",
      "  Stored in directory: /tmp/pip-ephem-wheel-cache-8l98ebzr/wheels/33/77/6c/1140f6295368e7045f3b49fdda98e7f07b2513b8b55093ca7b\n",
      "Successfully built dnn-from-scratch\n",
      "Installing collected packages: dnn-from-scratch\n",
      "Successfully installed dnn-from-scratch-0.1.dev1\n"
     ]
    }
   ],
   "source": [
    "!python -m pip install git+https://github.com/ShivamShrirao/dnn_from_scratch.git"
   ]
  },
  {
   "cell_type": "code",
   "execution_count": null,
   "metadata": {
    "colab": {
     "base_uri": "https://localhost:8080/",
     "height": 136
    },
    "colab_type": "code",
    "id": "CgT-5T6EkO8a",
    "outputId": "5bdf1649-a3dd-4a9b-940f-3fe6f3ac0171"
   },
   "outputs": [
    {
     "name": "stdout",
     "output_type": "stream",
     "text": [
      "Cloning into 'deep_Q_learning_from_scratch'...\n",
      "remote: Enumerating objects: 271, done.\u001b[K\n",
      "remote: Counting objects: 100% (271/271), done.\u001b[K\n",
      "remote: Compressing objects: 100% (176/176), done.\u001b[K\n",
      "remote: Total 271 (delta 173), reused 186 (delta 88), pack-reused 0\u001b[K\n",
      "Receiving objects: 100% (271/271), 216.32 KiB | 802.00 KiB/s, done.\n",
      "Resolving deltas: 100% (173/173), done.\n"
     ]
    }
   ],
   "source": [
    "!git clone https://github.com/ShivamShrirao/deep_Q_learning_from_scratch.git"
   ]
  },
  {
   "cell_type": "code",
   "execution_count": null,
   "metadata": {
    "colab": {
     "base_uri": "https://localhost:8080/",
     "height": 34
    },
    "colab_type": "code",
    "id": "caNfRIj1kRcf",
    "outputId": "c35b9328-b53b-4363-f9d4-429eace84c52"
   },
   "outputs": [
    {
     "name": "stdout",
     "output_type": "stream",
     "text": [
      "/content/deep_Q_learning_from_scratch\n"
     ]
    }
   ],
   "source": [
    "%cd deep_Q_learning_from_scratch"
   ]
  },
  {
   "cell_type": "code",
   "execution_count": null,
   "metadata": {
    "colab": {
     "base_uri": "https://localhost:8080/",
     "height": 68
    },
    "colab_type": "code",
    "id": "OzhhtvRQkWJW",
    "outputId": "4d56b3f4-6b66-4fe9-a783-c3f79d281b01"
   },
   "outputs": [
    {
     "name": "stdout",
     "output_type": "stream",
     "text": [
      "From https://github.com/ShivamShrirao/deep_Q_learning_from_scratch\n",
      " * branch            master     -> FETCH_HEAD\n",
      "Already up to date.\n"
     ]
    }
   ],
   "source": [
    "!git pull origin master"
   ]
  },
  {
   "cell_type": "code",
   "execution_count": null,
   "metadata": {
    "colab": {},
    "colab_type": "code",
    "id": "W0SnQz--kXCg"
   },
   "outputs": [],
   "source": [
    "import gym\n",
    "import time\n",
    "import cv2\n",
    "import numpy as np\n",
    "from collections import deque\n",
    "\n",
    "from settings import *\n",
    "from agent import *\n",
    "from experience import *"
   ]
  },
  {
   "cell_type": "code",
   "execution_count": null,
   "metadata": {
    "colab": {},
    "colab_type": "code",
    "id": "2kU2s0QSU8G7"
   },
   "outputs": [],
   "source": [
    "from nnet_gpu.network import Sequential\n",
    "from nnet_gpu.layers import Conv2D,Flatten,Dense,Dropout\n",
    "from nnet_gpu import optimizers\n",
    "from nnet_gpu import functions"
   ]
  },
  {
   "cell_type": "markdown",
   "metadata": {},
   "source": [
    "# Make Convolutional Model"
   ]
  },
  {
   "cell_type": "code",
   "execution_count": null,
   "metadata": {
    "colab": {},
    "colab_type": "code",
    "id": "WYHt_WPCHw3Q"
   },
   "outputs": [],
   "source": [
    "def get_model(input_shape=(HEIGHT,WIDTH,NFRAMES), no_of_actions=3):\n",
    "    model=Sequential()\n",
    "    model.add(Conv2D(num_kernels=32, kernel_size=3, stride=(2, 2), activation=functions.relu, input_shape=input_shape))\n",
    "    model.add(Dropout(0.1))\n",
    "    model.add(Conv2D(num_kernels=64, kernel_size=3, stride=(2, 2), activation=functions.relu))\n",
    "    model.add(Dropout(0.2))\n",
    "    model.add(Conv2D(num_kernels=128, kernel_size=3, stride=(2, 2), activation=functions.relu))\n",
    "    model.add(Flatten())\n",
    "    model.add(Dropout(0.3))\n",
    "    model.add(Dense(512, activation=functions.relu))\n",
    "    model.add(Dense(no_of_actions, activation=functions.echo))\n",
    "\n",
    "    model.compile(optimizer=optimizers.adam, loss=functions.mean_squared_error, learning_rate=0.0001)\n",
    "    return model\n",
    "\n",
    "def preproc_obsv(obsv):\n",
    "    obsv = cv2.cvtColor(obsv, cv2.COLOR_RGB2GRAY)\n",
    "    obsv = obsv[34:194:2,::2]\n",
    "    return obsv"
   ]
  },
  {
   "cell_type": "markdown",
   "metadata": {},
   "source": [
    "# Initialize the agent with model and target model."
   ]
  },
  {
   "cell_type": "code",
   "execution_count": null,
   "metadata": {
    "colab": {
     "base_uri": "https://localhost:8080/",
     "height": 459
    },
    "colab_type": "code",
    "id": "hc4bwkXTkX7_",
    "outputId": "6d9c685a-b106-4f01-8663-24898fde60f3"
   },
   "outputs": [
    {
     "name": "stdout",
     "output_type": "stream",
     "text": [
      "⎽⎽⎽⎽⎽⎽⎽⎽⎽⎽⎽⎽⎽⎽⎽⎽⎽⎽⎽⎽⎽⎽⎽⎽⎽⎽⎽⎽⎽⎽⎽⎽⎽⎽⎽⎽⎽⎽⎽⎽⎽⎽⎽⎽⎽⎽⎽⎽⎽⎽⎽⎽⎽⎽⎽⎽⎽⎽⎽⎽⎽⎽⎽⎽⎽⎽⎽⎽⎽⎽⎽⎽⎽⎽⎽⎽⎽⎽⎽⎽⎽⎽⎽⎽⎽⎽⎽⎽⎽⎽\n",
      "Layer (type)               Output Shape             Activation        Param #\n",
      "==========================================================================================\n",
      "- InputLayer(InputLayer)  (None, 80, 80, 4)          echo             0\n",
      "__________________________________________________________________________________________\n",
      "0 Conv2D(Conv2D)          (None, 40, 40, 32)         relu             1184\n",
      "__________________________________________________________________________________________\n",
      "1 Dropout(Dropout)        (None, 40, 40, 32)         echo             0\n",
      "__________________________________________________________________________________________\n",
      "2 Conv2D(Conv2D)          (None, 20, 20, 64)         relu             18496\n",
      "__________________________________________________________________________________________\n",
      "3 Dropout(Dropout)        (None, 20, 20, 64)         echo             0\n",
      "__________________________________________________________________________________________\n",
      "4 Conv2D(Conv2D)          (None, 10, 10, 128)        relu             73856\n",
      "__________________________________________________________________________________________\n",
      "5 Flatten(Flatten)        (None, 12800)              echo             0\n",
      "__________________________________________________________________________________________\n",
      "6 Dropout(Dropout)        (None, 12800)              echo             0\n",
      "__________________________________________________________________________________________\n",
      "7 Dense(Dense)            (None, 512)                relu             6554112\n",
      "__________________________________________________________________________________________\n",
      "8 Dense(Dense)            (None, 3)                  echo             1539\n",
      "==========================================================================================\n",
      "Total Params: 6,649,187\n",
      "Trainable Params: 6,649,187\n",
      "Non-trainable Params: 0\n"
     ]
    }
   ],
   "source": [
    "agt = DQN_Agent(actions=[0,2,3], epsilon=1, min_epsilon=0.1, eps_decay=1e-6, target_update_thresh=3000)\n",
    "agt.model = get_model(input_shape=(HEIGHT,WIDTH,NFRAMES), no_of_actions=len(agt.actions))\n",
    "agt.target = get_model(input_shape=(HEIGHT,WIDTH,NFRAMES), no_of_actions=len(agt.actions))\n",
    "agt.update_target()\n",
    "agt.model.summary()"
   ]
  },
  {
   "cell_type": "code",
   "execution_count": null,
   "metadata": {
    "colab": {},
    "colab_type": "code",
    "id": "bjJzb3c7H29B"
   },
   "outputs": [],
   "source": [
    "D_exp = ReplayMemory(capacity=1_000_000, nlap=1)"
   ]
  },
  {
   "cell_type": "code",
   "execution_count": null,
   "metadata": {
    "colab": {
     "base_uri": "https://localhost:8080/",
     "height": 34
    },
    "colab_type": "code",
    "id": "MDlH0rWlH2Kt",
    "outputId": "7d695c22-6c4a-4870-9bb8-f2071750f146"
   },
   "outputs": [
    {
     "data": {
      "text/plain": [
       "5.9604644775390625"
      ]
     },
     "execution_count": 12,
     "metadata": {
      "tags": []
     },
     "output_type": "execute_result"
    }
   ],
   "source": [
    "D_exp.current_state.nbytes/1024/1024/1024"
   ]
  },
  {
   "cell_type": "markdown",
   "metadata": {},
   "source": [
    "## make game environment"
   ]
  },
  {
   "cell_type": "code",
   "execution_count": null,
   "metadata": {
    "colab": {},
    "colab_type": "code",
    "id": "XFlEoOqOkbcy"
   },
   "outputs": [],
   "source": [
    "env = gym.make('Pong-v0')"
   ]
  },
  {
   "cell_type": "code",
   "execution_count": null,
   "metadata": {
    "colab": {},
    "colab_type": "code",
    "id": "w-t9ZJr61s8R"
   },
   "outputs": [],
   "source": [
    "total_frames = 0\n",
    "scores = deque([], maxlen=100)"
   ]
  },
  {
   "cell_type": "code",
   "execution_count": null,
   "metadata": {
    "colab": {
     "base_uri": "https://localhost:8080/",
     "height": 34
    },
    "colab_type": "code",
    "id": "do2kpfL9Yd_o",
    "outputId": "eb7f7fca-151c-49ac-ac58-f061e4496160"
   },
   "outputs": [
    {
     "data": {
      "text/plain": [
       "0"
      ]
     },
     "execution_count": 15,
     "metadata": {
      "tags": []
     },
     "output_type": "execute_result"
    }
   ],
   "source": [
    "D_exp.len"
   ]
  },
  {
   "cell_type": "code",
   "execution_count": null,
   "metadata": {
    "colab": {},
    "colab_type": "code",
    "id": "1-zscT4Tkd2Z"
   },
   "outputs": [],
   "source": [
    "for i_episode in range(1000):\n",
    "    obinit = env.reset()\n",
    "    if not i_episode:                  # init first state queue\n",
    "        observation = obinit\n",
    "        state = preproc_obsv(observation)\n",
    "        state_que = deque([], maxlen=NFRAMES)\n",
    "        for i in range(NFRAMES):\n",
    "            state_que.append(state)\n",
    "    ep_score = 0\n",
    "    start = time.time()\n",
    "    for t in range(10_000):\n",
    "        s_s = time.time()\n",
    "#         env.render()\n",
    "        state = preproc_obsv(observation)        # preprocess the observation\n",
    "        state_que.append(state)                  # add to state queue\n",
    "        action = agt.get_action(state_que)\n",
    "        next_observation, reward, done, info = env.step(action)  # take a action in environment and observe\n",
    "        ep_score += reward\n",
    "\n",
    "        D_exp.store_transition(state, agt.actions.index(action), reward, done)   # store the state to experience replay\n",
    "        observation = next_observation\n",
    "\n",
    "        if (D_exp.len-D_exp.idx_len) > BATCH_SIZE:\n",
    "            grads = agt.train(D_exp, BATCH_SIZE)    # train from experience\n",
    "        print('\\r', t, action, ep_score, end='  ')\n",
    "        if done:\n",
    "            break\n",
    "    total_frames += (t+1)\n",
    "    scores.append(ep_score)\n",
    "    print(f\"\\rEpisode {i_episode+1} finished after {t+1} timesteps, Score: {ep_score}, Avg: {sum(scores)/len(scores):.2f}, Epsilon: {agt.epsilon:.6f}, Time: {time.time()-start:.2f}, Frames: {total_frames:,}\")\n",
    "    if not i_episode%8:\n",
    "        agt.model.save_weights(\"/content/drive/My Drive/pong.w8s\")\n",
    "        if total_frames > 2_400_000:\n",
    "            agt.continue_decay = True\n",
    "env.close()"
   ]
  },
  {
   "cell_type": "code",
   "execution_count": null,
   "metadata": {
    "colab": {},
    "colab_type": "code",
    "id": "iJ8xVnmIM-d_"
   },
   "outputs": [],
   "source": [
    "agt.epsilon = 0#1"
   ]
  },
  {
   "cell_type": "code",
   "execution_count": null,
   "metadata": {
    "colab": {},
    "colab_type": "code",
    "id": "rwdoEVpjtJLZ"
   },
   "outputs": [],
   "source": [
    "from gym import wrappers"
   ]
  },
  {
   "cell_type": "code",
   "execution_count": null,
   "metadata": {
    "colab": {},
    "colab_type": "code",
    "id": "WwhwhRmdbUjW"
   },
   "outputs": [],
   "source": [
    "wrapped_env = wrappers.Monitor(env.env, '/content/videos/' + str(time.time()) + '/')\n",
    "for i_episode in range(1):\n",
    "    obinit = wrapped_env.reset()\n",
    "    if not i_episode:\n",
    "        observation = obinit\n",
    "        state = preproc_obsv(observation)\n",
    "        state_que = deque([], maxlen=NFRAMES)\n",
    "        for i in range(NFRAMES):\n",
    "            state_que.append(state)\n",
    "    ep_score = 0\n",
    "    preds = []\n",
    "    reward_history = []\n",
    "    start = time.time()\n",
    "    t = -1\n",
    "    while 1:\n",
    "        t+=1\n",
    "        # wrapped_env.render()\n",
    "        state = preproc_obsv(observation)\n",
    "        state_que.append(state)\n",
    "        # action = agt.get_action(state_que)\n",
    "        out = agt.predict(state_que)\n",
    "        pidx = cp.argmax(out[0]).item()\n",
    "        preds.append(out[0][pidx].item())\n",
    "        action = agt.actions[pidx]\n",
    "        next_observation, reward, done, info = wrapped_env.step(action)\n",
    "        ep_score += reward\n",
    "        reward_history.append(reward)\n",
    "        observation = next_observation\n",
    "        # time.sleep(1/fps)\n",
    "        print('\\r', t, action, ep_score, end='  ')\n",
    "        if done:\n",
    "            break\n",
    "    print(f\"\\rEpisode {i_episode+1} finished after {t+1} timesteps, Score: {ep_score}, Epsilon: {agt.epsilon:.6f}, Time: {time.time()-start:.2f}\")\n",
    "wrapped_env.close()"
   ]
  },
  {
   "cell_type": "code",
   "execution_count": null,
   "metadata": {
    "colab": {},
    "colab_type": "code",
    "id": "wdixxSk7x9Bs"
   },
   "outputs": [],
   "source": [
    "!rm /content/videos/* -rf"
   ]
  },
  {
   "cell_type": "code",
   "execution_count": null,
   "metadata": {
    "colab": {},
    "colab_type": "code",
    "id": "KSssAGGzyaWe"
   },
   "outputs": [],
   "source": []
  }
 ],
 "metadata": {
  "accelerator": "GPU",
  "colab": {
   "collapsed_sections": [],
   "machine_shape": "hm",
   "name": "Pong_Deep_Q_RL.ipynb",
   "provenance": []
  },
  "kernelspec": {
   "display_name": "Python 3",
   "language": "python",
   "name": "python3"
  },
  "language_info": {
   "codemirror_mode": {
    "name": "ipython",
    "version": 3
   },
   "file_extension": ".py",
   "mimetype": "text/x-python",
   "name": "python",
   "nbconvert_exporter": "python",
   "pygments_lexer": "ipython3",
   "version": "3.8.5"
  }
 },
 "nbformat": 4,
 "nbformat_minor": 1
}
